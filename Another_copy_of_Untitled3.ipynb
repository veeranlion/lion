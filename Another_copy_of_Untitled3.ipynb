{
  "cells": [
    {
      "cell_type": "code",
      "execution_count": null,
      "metadata": {
        "colab": {
          "base_uri": "https://localhost:8080/"
        },
        "id": "qVTRfxfmnW9T",
        "outputId": "089397b3-0358-4cd3-cc09-9c23b600f988"
      },
      "outputs": [
        {
          "name": "stdout",
          "output_type": "stream",
          "text": [
            "\u001b[?25l     \u001b[90m━━━━━━━━━━━━━━━━━━━━━━━━━━━━━━━━━━━━━━━━\u001b[0m \u001b[32m0.0/154.4 kB\u001b[0m \u001b[31m?\u001b[0m eta \u001b[36m-:--:--\u001b[0m\r\u001b[2K     \u001b[91m━━━━━━━━━━━━━━━━━━━━━━━━━━━━━━━━━━━━━━\u001b[0m\u001b[91m╸\u001b[0m \u001b[32m153.6/154.4 kB\u001b[0m \u001b[31m5.2 MB/s\u001b[0m eta \u001b[36m0:00:01\u001b[0m\r\u001b[2K     \u001b[90m━━━━━━━━━━━━━━━━━━━━━━━━━━━━━━━━━━━━━━━\u001b[0m \u001b[32m154.4/154.4 kB\u001b[0m \u001b[31m3.2 MB/s\u001b[0m eta \u001b[36m0:00:00\u001b[0m\n",
            "\u001b[?25h  Installing build dependencies ... \u001b[?25l\u001b[?25hdone\n",
            "  Getting requirements to build wheel ... \u001b[?25l\u001b[?25hdone\n",
            "  Preparing metadata (pyproject.toml) ... \u001b[?25l\u001b[?25hdone\n",
            "  Building wheel for scikit-surprise (pyproject.toml) ... \u001b[?25l\u001b[?25hdone\n"
          ]
        }
      ],
      "source": [
        "# Install scikit-surprise library for recommendation system\n",
        "!pip install scikit-surprise --quiet\n"
      ]
    },
    {
      "cell_type": "code",
      "execution_count": null,
      "metadata": {
        "colab": {
          "base_uri": "https://localhost:8080/",
          "height": 580
        },
        "id": "30Xc297MpJze",
        "outputId": "fd9e1740-c2f9-46fc-a95f-fbd124a6e3df"
      },
      "outputs": [
        {
          "name": "stdout",
          "output_type": "stream",
          "text": [
            "Please upload the 'ratings.csv' file from your local folder.\n"
          ]
        },
        {
          "data": {
            "text/html": [
              "\n",
              "     <input type=\"file\" id=\"files-6f256105-a60d-407a-a042-1b64bcd20910\" name=\"files[]\" multiple disabled\n",
              "        style=\"border:none\" />\n",
              "     <output id=\"result-6f256105-a60d-407a-a042-1b64bcd20910\">\n",
              "      Upload widget is only available when the cell has been executed in the\n",
              "      current browser session. Please rerun this cell to enable.\n",
              "      </output>\n",
              "      <script>// Copyright 2017 Google LLC\n",
              "//\n",
              "// Licensed under the Apache License, Version 2.0 (the \"License\");\n",
              "// you may not use this file except in compliance with the License.\n",
              "// You may obtain a copy of the License at\n",
              "//\n",
              "//      http://www.apache.org/licenses/LICENSE-2.0\n",
              "//\n",
              "// Unless required by applicable law or agreed to in writing, software\n",
              "// distributed under the License is distributed on an \"AS IS\" BASIS,\n",
              "// WITHOUT WARRANTIES OR CONDITIONS OF ANY KIND, either express or implied.\n",
              "// See the License for the specific language governing permissions and\n",
              "// limitations under the License.\n",
              "\n",
              "/**\n",
              " * @fileoverview Helpers for google.colab Python module.\n",
              " */\n",
              "(function(scope) {\n",
              "function span(text, styleAttributes = {}) {\n",
              "  const element = document.createElement('span');\n",
              "  element.textContent = text;\n",
              "  for (const key of Object.keys(styleAttributes)) {\n",
              "    element.style[key] = styleAttributes[key];\n",
              "  }\n",
              "  return element;\n",
              "}\n",
              "\n",
              "// Max number of bytes which will be uploaded at a time.\n",
              "const MAX_PAYLOAD_SIZE = 100 * 1024;\n",
              "\n",
              "function _uploadFiles(inputId, outputId) {\n",
              "  const steps = uploadFilesStep(inputId, outputId);\n",
              "  const outputElement = document.getElementById(outputId);\n",
              "  // Cache steps on the outputElement to make it available for the next call\n",
              "  // to uploadFilesContinue from Python.\n",
              "  outputElement.steps = steps;\n",
              "\n",
              "  return _uploadFilesContinue(outputId);\n",
              "}\n",
              "\n",
              "// This is roughly an async generator (not supported in the browser yet),\n",
              "// where there are multiple asynchronous steps and the Python side is going\n",
              "// to poll for completion of each step.\n",
              "// This uses a Promise to block the python side on completion of each step,\n",
              "// then passes the result of the previous step as the input to the next step.\n",
              "function _uploadFilesContinue(outputId) {\n",
              "  const outputElement = document.getElementById(outputId);\n",
              "  const steps = outputElement.steps;\n",
              "\n",
              "  const next = steps.next(outputElement.lastPromiseValue);\n",
              "  return Promise.resolve(next.value.promise).then((value) => {\n",
              "    // Cache the last promise value to make it available to the next\n",
              "    // step of the generator.\n",
              "    outputElement.lastPromiseValue = value;\n",
              "    return next.value.response;\n",
              "  });\n",
              "}\n",
              "\n",
              "/**\n",
              " * Generator function which is called between each async step of the upload\n",
              " * process.\n",
              " * @param {string} inputId Element ID of the input file picker element.\n",
              " * @param {string} outputId Element ID of the output display.\n",
              " * @return {!Iterable<!Object>} Iterable of next steps.\n",
              " */\n",
              "function* uploadFilesStep(inputId, outputId) {\n",
              "  const inputElement = document.getElementById(inputId);\n",
              "  inputElement.disabled = false;\n",
              "\n",
              "  const outputElement = document.getElementById(outputId);\n",
              "  outputElement.innerHTML = '';\n",
              "\n",
              "  const pickedPromise = new Promise((resolve) => {\n",
              "    inputElement.addEventListener('change', (e) => {\n",
              "      resolve(e.target.files);\n",
              "    });\n",
              "  });\n",
              "\n",
              "  const cancel = document.createElement('button');\n",
              "  inputElement.parentElement.appendChild(cancel);\n",
              "  cancel.textContent = 'Cancel upload';\n",
              "  const cancelPromise = new Promise((resolve) => {\n",
              "    cancel.onclick = () => {\n",
              "      resolve(null);\n",
              "    };\n",
              "  });\n",
              "\n",
              "  // Wait for the user to pick the files.\n",
              "  const files = yield {\n",
              "    promise: Promise.race([pickedPromise, cancelPromise]),\n",
              "    response: {\n",
              "      action: 'starting',\n",
              "    }\n",
              "  };\n",
              "\n",
              "  cancel.remove();\n",
              "\n",
              "  // Disable the input element since further picks are not allowed.\n",
              "  inputElement.disabled = true;\n",
              "\n",
              "  if (!files) {\n",
              "    return {\n",
              "      response: {\n",
              "        action: 'complete',\n",
              "      }\n",
              "    };\n",
              "  }\n",
              "\n",
              "  for (const file of files) {\n",
              "    const li = document.createElement('li');\n",
              "    li.append(span(file.name, {fontWeight: 'bold'}));\n",
              "    li.append(span(\n",
              "        `(${file.type || 'n/a'}) - ${file.size} bytes, ` +\n",
              "        `last modified: ${\n",
              "            file.lastModifiedDate ? file.lastModifiedDate.toLocaleDateString() :\n",
              "                                    'n/a'} - `));\n",
              "    const percent = span('0% done');\n",
              "    li.appendChild(percent);\n",
              "\n",
              "    outputElement.appendChild(li);\n",
              "\n",
              "    const fileDataPromise = new Promise((resolve) => {\n",
              "      const reader = new FileReader();\n",
              "      reader.onload = (e) => {\n",
              "        resolve(e.target.result);\n",
              "      };\n",
              "      reader.readAsArrayBuffer(file);\n",
              "    });\n",
              "    // Wait for the data to be ready.\n",
              "    let fileData = yield {\n",
              "      promise: fileDataPromise,\n",
              "      response: {\n",
              "        action: 'continue',\n",
              "      }\n",
              "    };\n",
              "\n",
              "    // Use a chunked sending to avoid message size limits. See b/62115660.\n",
              "    let position = 0;\n",
              "    do {\n",
              "      const length = Math.min(fileData.byteLength - position, MAX_PAYLOAD_SIZE);\n",
              "      const chunk = new Uint8Array(fileData, position, length);\n",
              "      position += length;\n",
              "\n",
              "      const base64 = btoa(String.fromCharCode.apply(null, chunk));\n",
              "      yield {\n",
              "        response: {\n",
              "          action: 'append',\n",
              "          file: file.name,\n",
              "          data: base64,\n",
              "        },\n",
              "      };\n",
              "\n",
              "      let percentDone = fileData.byteLength === 0 ?\n",
              "          100 :\n",
              "          Math.round((position / fileData.byteLength) * 100);\n",
              "      percent.textContent = `${percentDone}% done`;\n",
              "\n",
              "    } while (position < fileData.byteLength);\n",
              "  }\n",
              "\n",
              "  // All done.\n",
              "  yield {\n",
              "    response: {\n",
              "      action: 'complete',\n",
              "    }\n",
              "  };\n",
              "}\n",
              "\n",
              "scope.google = scope.google || {};\n",
              "scope.google.colab = scope.google.colab || {};\n",
              "scope.google.colab._files = {\n",
              "  _uploadFiles,\n",
              "  _uploadFilesContinue,\n",
              "};\n",
              "})(self);\n",
              "</script> "
            ],
            "text/plain": [
              "<IPython.core.display.HTML object>"
            ]
          },
          "metadata": {},
          "output_type": "display_data"
        },
        {
          "name": "stdout",
          "output_type": "stream",
          "text": [
            "Saving ratings.csv to ratings.csv\n",
            "\n",
            "🎬 Sample ratings (ratings.csv):\n",
            "   userId  movieId  rating  timestamp\n",
            "0       1        1     4.0  964982703\n",
            "1       1        3     4.0  964981247\n",
            "2       1        6     4.0  964982224\n",
            "3       1       47     5.0  964983815\n",
            "4       1       50     5.0  964982931\n",
            "\n",
            "Please upload the 'movies.csv' file from your local folder.\n"
          ]
        },
        {
          "data": {
            "text/html": [
              "\n",
              "     <input type=\"file\" id=\"files-f6db6579-94c9-4bef-a2bc-d5b454699a46\" name=\"files[]\" multiple disabled\n",
              "        style=\"border:none\" />\n",
              "     <output id=\"result-f6db6579-94c9-4bef-a2bc-d5b454699a46\">\n",
              "      Upload widget is only available when the cell has been executed in the\n",
              "      current browser session. Please rerun this cell to enable.\n",
              "      </output>\n",
              "      <script>// Copyright 2017 Google LLC\n",
              "//\n",
              "// Licensed under the Apache License, Version 2.0 (the \"License\");\n",
              "// you may not use this file except in compliance with the License.\n",
              "// You may obtain a copy of the License at\n",
              "//\n",
              "//      http://www.apache.org/licenses/LICENSE-2.0\n",
              "//\n",
              "// Unless required by applicable law or agreed to in writing, software\n",
              "// distributed under the License is distributed on an \"AS IS\" BASIS,\n",
              "// WITHOUT WARRANTIES OR CONDITIONS OF ANY KIND, either express or implied.\n",
              "// See the License for the specific language governing permissions and\n",
              "// limitations under the License.\n",
              "\n",
              "/**\n",
              " * @fileoverview Helpers for google.colab Python module.\n",
              " */\n",
              "(function(scope) {\n",
              "function span(text, styleAttributes = {}) {\n",
              "  const element = document.createElement('span');\n",
              "  element.textContent = text;\n",
              "  for (const key of Object.keys(styleAttributes)) {\n",
              "    element.style[key] = styleAttributes[key];\n",
              "  }\n",
              "  return element;\n",
              "}\n",
              "\n",
              "// Max number of bytes which will be uploaded at a time.\n",
              "const MAX_PAYLOAD_SIZE = 100 * 1024;\n",
              "\n",
              "function _uploadFiles(inputId, outputId) {\n",
              "  const steps = uploadFilesStep(inputId, outputId);\n",
              "  const outputElement = document.getElementById(outputId);\n",
              "  // Cache steps on the outputElement to make it available for the next call\n",
              "  // to uploadFilesContinue from Python.\n",
              "  outputElement.steps = steps;\n",
              "\n",
              "  return _uploadFilesContinue(outputId);\n",
              "}\n",
              "\n",
              "// This is roughly an async generator (not supported in the browser yet),\n",
              "// where there are multiple asynchronous steps and the Python side is going\n",
              "// to poll for completion of each step.\n",
              "// This uses a Promise to block the python side on completion of each step,\n",
              "// then passes the result of the previous step as the input to the next step.\n",
              "function _uploadFilesContinue(outputId) {\n",
              "  const outputElement = document.getElementById(outputId);\n",
              "  const steps = outputElement.steps;\n",
              "\n",
              "  const next = steps.next(outputElement.lastPromiseValue);\n",
              "  return Promise.resolve(next.value.promise).then((value) => {\n",
              "    // Cache the last promise value to make it available to the next\n",
              "    // step of the generator.\n",
              "    outputElement.lastPromiseValue = value;\n",
              "    return next.value.response;\n",
              "  });\n",
              "}\n",
              "\n",
              "/**\n",
              " * Generator function which is called between each async step of the upload\n",
              " * process.\n",
              " * @param {string} inputId Element ID of the input file picker element.\n",
              " * @param {string} outputId Element ID of the output display.\n",
              " * @return {!Iterable<!Object>} Iterable of next steps.\n",
              " */\n",
              "function* uploadFilesStep(inputId, outputId) {\n",
              "  const inputElement = document.getElementById(inputId);\n",
              "  inputElement.disabled = false;\n",
              "\n",
              "  const outputElement = document.getElementById(outputId);\n",
              "  outputElement.innerHTML = '';\n",
              "\n",
              "  const pickedPromise = new Promise((resolve) => {\n",
              "    inputElement.addEventListener('change', (e) => {\n",
              "      resolve(e.target.files);\n",
              "    });\n",
              "  });\n",
              "\n",
              "  const cancel = document.createElement('button');\n",
              "  inputElement.parentElement.appendChild(cancel);\n",
              "  cancel.textContent = 'Cancel upload';\n",
              "  const cancelPromise = new Promise((resolve) => {\n",
              "    cancel.onclick = () => {\n",
              "      resolve(null);\n",
              "    };\n",
              "  });\n",
              "\n",
              "  // Wait for the user to pick the files.\n",
              "  const files = yield {\n",
              "    promise: Promise.race([pickedPromise, cancelPromise]),\n",
              "    response: {\n",
              "      action: 'starting',\n",
              "    }\n",
              "  };\n",
              "\n",
              "  cancel.remove();\n",
              "\n",
              "  // Disable the input element since further picks are not allowed.\n",
              "  inputElement.disabled = true;\n",
              "\n",
              "  if (!files) {\n",
              "    return {\n",
              "      response: {\n",
              "        action: 'complete',\n",
              "      }\n",
              "    };\n",
              "  }\n",
              "\n",
              "  for (const file of files) {\n",
              "    const li = document.createElement('li');\n",
              "    li.append(span(file.name, {fontWeight: 'bold'}));\n",
              "    li.append(span(\n",
              "        `(${file.type || 'n/a'}) - ${file.size} bytes, ` +\n",
              "        `last modified: ${\n",
              "            file.lastModifiedDate ? file.lastModifiedDate.toLocaleDateString() :\n",
              "                                    'n/a'} - `));\n",
              "    const percent = span('0% done');\n",
              "    li.appendChild(percent);\n",
              "\n",
              "    outputElement.appendChild(li);\n",
              "\n",
              "    const fileDataPromise = new Promise((resolve) => {\n",
              "      const reader = new FileReader();\n",
              "      reader.onload = (e) => {\n",
              "        resolve(e.target.result);\n",
              "      };\n",
              "      reader.readAsArrayBuffer(file);\n",
              "    });\n",
              "    // Wait for the data to be ready.\n",
              "    let fileData = yield {\n",
              "      promise: fileDataPromise,\n",
              "      response: {\n",
              "        action: 'continue',\n",
              "      }\n",
              "    };\n",
              "\n",
              "    // Use a chunked sending to avoid message size limits. See b/62115660.\n",
              "    let position = 0;\n",
              "    do {\n",
              "      const length = Math.min(fileData.byteLength - position, MAX_PAYLOAD_SIZE);\n",
              "      const chunk = new Uint8Array(fileData, position, length);\n",
              "      position += length;\n",
              "\n",
              "      const base64 = btoa(String.fromCharCode.apply(null, chunk));\n",
              "      yield {\n",
              "        response: {\n",
              "          action: 'append',\n",
              "          file: file.name,\n",
              "          data: base64,\n",
              "        },\n",
              "      };\n",
              "\n",
              "      let percentDone = fileData.byteLength === 0 ?\n",
              "          100 :\n",
              "          Math.round((position / fileData.byteLength) * 100);\n",
              "      percent.textContent = `${percentDone}% done`;\n",
              "\n",
              "    } while (position < fileData.byteLength);\n",
              "  }\n",
              "\n",
              "  // All done.\n",
              "  yield {\n",
              "    response: {\n",
              "      action: 'complete',\n",
              "    }\n",
              "  };\n",
              "}\n",
              "\n",
              "scope.google = scope.google || {};\n",
              "scope.google.colab = scope.google.colab || {};\n",
              "scope.google.colab._files = {\n",
              "  _uploadFiles,\n",
              "  _uploadFilesContinue,\n",
              "};\n",
              "})(self);\n",
              "</script> "
            ],
            "text/plain": [
              "<IPython.core.display.HTML object>"
            ]
          },
          "metadata": {},
          "output_type": "display_data"
        },
        {
          "name": "stdout",
          "output_type": "stream",
          "text": [
            "Saving ratings.csv to ratings (1).csv\n",
            "\n",
            "🎥 Sample movies (movies.csv):\n",
            "   movieId                               title  \\\n",
            "0        1                    Toy Story (1995)   \n",
            "1        2                      Jumanji (1995)   \n",
            "2        3             Grumpier Old Men (1995)   \n",
            "3        4            Waiting to Exhale (1995)   \n",
            "4        5  Father of the Bride Part II (1995)   \n",
            "\n",
            "                                        genres  \n",
            "0  Adventure|Animation|Children|Comedy|Fantasy  \n",
            "1                   Adventure|Children|Fantasy  \n",
            "2                               Comedy|Romance  \n",
            "3                         Comedy|Drama|Romance  \n",
            "4                                       Comedy  \n"
          ]
        }
      ],
      "source": [
        "# ✅ Step 1: Install required packages\n",
        "!pip install scikit-surprise --quiet\n",
        "\n",
        "# ✅ Step 2: Upload the 'ratings.csv' file from the user's folder\n",
        "from google.colab import files\n",
        "import pandas as pd\n",
        "\n",
        "# Prompt user to upload 'ratings.csv'\n",
        "print(\"Please upload the 'ratings.csv' file from your local folder.\")\n",
        "uploaded = files.upload()  # File upload dialog will appear\n",
        "\n",
        "# Load the uploaded ratings.csv into a DataFrame\n",
        "ratings_df = pd.read_csv(\"ratings.csv\")\n",
        "\n",
        "# Preview the uploaded ratings data\n",
        "print(\"\\n🎬 Sample ratings (ratings.csv):\")\n",
        "print(ratings_df.head())\n",
        "\n",
        "# ✅ Step 3: Upload the 'movies.csv' file from the user's folder\n",
        "print(\"\\nPlease upload the 'movies.csv' file from your local folder.\")\n",
        "uploaded = files.upload()  # File upload dialog will appear again\n",
        "\n",
        "# Load the uploaded movies.csv into a DataFrame\n",
        "movies_df = pd.read_csv(\"movies.csv\")\n",
        "\n",
        "# Preview the uploaded movies data\n",
        "print(\"\\n🎥 Sample movies (movies.csv):\")\n",
        "print(movies_df.head())\n"
      ]
    },
    {
      "cell_type": "code",
      "execution_count": null,
      "metadata": {
        "colab": {
          "base_uri": "https://localhost:8080/"
        },
        "id": "qFz1TMIvwmrA",
        "outputId": "b5c8e20a-814d-4f0c-de69-44a0dabef9c8"
      },
      "outputs": [
        {
          "name": "stdout",
          "output_type": "stream",
          "text": [
            "Requirement already satisfied: numpy in /usr/local/lib/python3.11/dist-packages (2.2.5)\n"
          ]
        }
      ],
      "source": [
        "!pip install --upgrade numpy\n",
        "!pip install scikit-surprise --quiet --no-cache-dir"
      ]
    },
    {
      "cell_type": "code",
      "execution_count": null,
      "metadata": {
        "colab": {
          "base_uri": "https://localhost:8080/"
        },
        "id": "JgixpHABxNwF",
        "outputId": "d3f019e4-dd8b-4975-fa77-cd4c1e4cdc6b"
      },
      "outputs": [
        {
          "name": "stdout",
          "output_type": "stream",
          "text": [
            "Found existing installation: numpy 2.2.5\n",
            "Uninstalling numpy-2.2.5:\n",
            "  Would remove:\n",
            "    /usr/local/bin/f2py\n",
            "    /usr/local/bin/numpy-config\n",
            "    /usr/local/lib/python3.11/dist-packages/numpy-2.2.5.dist-info/*\n",
            "    /usr/local/lib/python3.11/dist-packages/numpy.libs/libgfortran-040039e1-0352e75f.so.5.0.0\n",
            "    /usr/local/lib/python3.11/dist-packages/numpy.libs/libquadmath-96973f99-934c22de.so.0.0.0\n",
            "    /usr/local/lib/python3.11/dist-packages/numpy.libs/libscipy_openblas64_-6bb31eeb.so\n",
            "    /usr/local/lib/python3.11/dist-packages/numpy/*\n",
            "Proceed (Y/n)? pip install numpy==1.19.3\n",
            "Your response ('pip install numpy==1.19.3') was not one of the expected responses: y, n, \n",
            "Proceed (Y/n)? y\n",
            "  Successfully uninstalled numpy-2.2.5\n",
            "Collecting numpy\n",
            "  Using cached numpy-2.2.5-cp311-cp311-manylinux_2_17_x86_64.manylinux2014_x86_64.whl.metadata (62 kB)\n",
            "Using cached numpy-2.2.5-cp311-cp311-manylinux_2_17_x86_64.manylinux2014_x86_64.whl (16.4 MB)\n",
            "Installing collected packages: numpy\n",
            "\u001b[31mERROR: pip's dependency resolver does not currently take into account all the packages that are installed. This behaviour is the source of the following dependency conflicts.\n",
            "numba 0.60.0 requires numpy<2.1,>=1.22, but you have numpy 2.2.5 which is incompatible.\n",
            "tensorflow 2.18.0 requires numpy<2.1.0,>=1.26.0, but you have numpy 2.2.5 which is incompatible.\u001b[0m\u001b[31m\n",
            "\u001b[0mSuccessfully installed numpy-2.2.5\n"
          ]
        }
      ],
      "source": [
        "!pip uninstall numpy\n",
        "!pip install numpy"
      ]
    },
    {
      "cell_type": "code",
      "execution_count": null,
      "metadata": {
        "colab": {
          "base_uri": "https://localhost:8080/"
        },
        "id": "c0zLzfqZyu7m",
        "outputId": "62f0fe0b-5a16-4903-e34c-4fb34b989b18"
      },
      "outputs": [
        {
          "name": "stdout",
          "output_type": "stream",
          "text": [
            "2.2.5\n"
          ]
        }
      ],
      "source": [
        "!python -c \"import numpy; print(numpy.__version__)\""
      ]
    },
    {
      "cell_type": "code",
      "execution_count": null,
      "metadata": {
        "colab": {
          "base_uri": "https://localhost:8080/"
        },
        "id": "bvDyl0qWy2Gq",
        "outputId": "d89e64b3-dcd7-4dce-d578-5c62e5842351"
      },
      "outputs": [
        {
          "name": "stdout",
          "output_type": "stream",
          "text": [
            "Files removed: 65\n",
            "Requirement already satisfied: numpy in /usr/local/lib/python3.11/dist-packages (2.2.5)\n"
          ]
        }
      ],
      "source": [
        "!pip cache purge\n",
        "!pip install numpy"
      ]
    },
    {
      "cell_type": "code",
      "execution_count": null,
      "metadata": {
        "colab": {
          "base_uri": "https://localhost:8080/"
        },
        "id": "VaPDEJZwzXbu",
        "outputId": "007566b5-da32-48bd-bd6c-f88356a6d5a0"
      },
      "outputs": [
        {
          "name": "stdout",
          "output_type": "stream",
          "text": [
            "Requirement already satisfied: pandas in /usr/local/lib/python3.11/dist-packages (2.2.2)\n",
            "Requirement already satisfied: scikit-learn in /usr/local/lib/python3.11/dist-packages (1.6.1)\n",
            "Requirement already satisfied: numpy>=1.23.2 in /usr/local/lib/python3.11/dist-packages (from pandas) (2.2.5)\n",
            "Requirement already satisfied: python-dateutil>=2.8.2 in /usr/local/lib/python3.11/dist-packages (from pandas) (2.9.0.post0)\n",
            "Requirement already satisfied: pytz>=2020.1 in /usr/local/lib/python3.11/dist-packages (from pandas) (2025.2)\n",
            "Requirement already satisfied: tzdata>=2022.7 in /usr/local/lib/python3.11/dist-packages (from pandas) (2025.2)\n",
            "Requirement already satisfied: scipy>=1.6.0 in /usr/local/lib/python3.11/dist-packages (from scikit-learn) (1.15.2)\n",
            "Requirement already satisfied: joblib>=1.2.0 in /usr/local/lib/python3.11/dist-packages (from scikit-learn) (1.4.2)\n",
            "Requirement already satisfied: threadpoolctl>=3.1.0 in /usr/local/lib/python3.11/dist-packages (from scikit-learn) (3.6.0)\n",
            "Requirement already satisfied: six>=1.5 in /usr/local/lib/python3.11/dist-packages (from python-dateutil>=2.8.2->pandas) (1.17.0)\n"
          ]
        }
      ],
      "source": [
        "!pip install pandas scikit-learn\n",
        "\n",
        "import pandas as pd\n",
        "from sklearn.metrics.pairwise import cosine_similarity\n",
        "import numpy as np\n",
        "\n"
      ]
    },
    {
      "cell_type": "code",
      "execution_count": null,
      "metadata": {
        "colab": {
          "base_uri": "https://localhost:8080/"
        },
        "id": "67f1diFEzoOy",
        "outputId": "4ffcfecd-bc89-47bd-dca8-790b0362e0a8"
      },
      "outputs": [
        {
          "name": "stdout",
          "output_type": "stream",
          "text": [
            "✅ User-Movie Matrix Shape: (610, 9724)\n"
          ]
        }
      ],
      "source": [
        "# Create a pivot table: rows = users, columns = movies, values = ratings\n",
        "user_movie_matrix = ratings_df.pivot_table(index='userId', columns='movieId', values='rating')\n",
        "\n",
        "# Fill missing values with 0\n",
        "user_movie_matrix_filled = user_movie_matrix.fillna(0)\n",
        "\n",
        "print(\"✅ User-Movie Matrix Shape:\", user_movie_matrix_filled.shape)\n"
      ]
    },
    {
      "cell_type": "code",
      "execution_count": null,
      "metadata": {
        "colab": {
          "base_uri": "https://localhost:8080/"
        },
        "id": "gx0m3gCvzwlX",
        "outputId": "0d0683fc-ceeb-41e3-bb6c-4cbae752b9d8"
      },
      "outputs": [
        {
          "name": "stdout",
          "output_type": "stream",
          "text": [
            "✅ User-User Similarity Matrix Sample:\n",
            "userId       1         2         3         4         5         6         7    \\\n",
            "userId                                                                         \n",
            "1       1.000000  0.027283  0.059720  0.194395  0.129080  0.128152  0.158744   \n",
            "2       0.027283  1.000000  0.000000  0.003726  0.016614  0.025333  0.027585   \n",
            "3       0.059720  0.000000  1.000000  0.002251  0.005020  0.003936  0.000000   \n",
            "4       0.194395  0.003726  0.002251  1.000000  0.128659  0.088491  0.115120   \n",
            "5       0.129080  0.016614  0.005020  0.128659  1.000000  0.300349  0.108342   \n",
            "\n",
            "userId       8         9         10   ...       601       602       603  \\\n",
            "userId                                ...                                 \n",
            "1       0.136968  0.064263  0.016875  ...  0.080554  0.164455  0.221486   \n",
            "2       0.027257  0.000000  0.067445  ...  0.202671  0.016866  0.011997   \n",
            "3       0.004941  0.000000  0.000000  ...  0.005048  0.004892  0.024992   \n",
            "4       0.062969  0.011361  0.031163  ...  0.085938  0.128273  0.307973   \n",
            "5       0.429075  0.000000  0.030611  ...  0.068048  0.418747  0.110148   \n",
            "\n",
            "userId       604       605       606       607       608       609       610  \n",
            "userId                                                                        \n",
            "1       0.070669  0.153625  0.164191  0.269389  0.291097  0.093572  0.145321  \n",
            "2       0.000000  0.000000  0.028429  0.012948  0.046211  0.027565  0.102427  \n",
            "3       0.000000  0.010694  0.012993  0.019247  0.021128  0.000000  0.032119  \n",
            "4       0.052985  0.084584  0.200395  0.131746  0.149858  0.032198  0.107683  \n",
            "5       0.258773  0.148758  0.106435  0.152866  0.135535  0.261232  0.060792  \n",
            "\n",
            "[5 rows x 610 columns]\n"
          ]
        }
      ],
      "source": [
        "# Compute cosine similarity between users\n",
        "user_similarity = cosine_similarity(user_movie_matrix_filled)\n",
        "\n",
        "# Convert to DataFrame for readability\n",
        "user_sim_df = pd.DataFrame(user_similarity, index=user_movie_matrix.index, columns=user_movie_matrix.index)\n",
        "\n",
        "print(\"✅ User-User Similarity Matrix Sample:\")\n",
        "print(user_sim_df.head())\n"
      ]
    },
    {
      "cell_type": "code",
      "execution_count": null,
      "metadata": {
        "colab": {
          "base_uri": "https://localhost:8080/"
        },
        "id": "DE7-qUus0EWL",
        "outputId": "92b78d66-450d-464d-c975-ed35d11b7270"
      },
      "outputs": [
        {
          "name": "stdout",
          "output_type": "stream",
          "text": [
            "\n",
            "🎯 Top 5 Recommendations for User 1:\n",
            "🎬 Shawshank Redemption, The (1994), Score: 215.45\n",
            "🎬 Terminator 2: Judgment Day (1991), Score: 169.40\n",
            "🎬 Godfather, The (1972), Score: 150.92\n",
            "🎬 Sixth Sense, The (1999), Score: 135.01\n",
            "🎬 Lord of the Rings: The Fellowship of the Ring, The (2001), Score: 131.87\n"
          ]
        }
      ],
      "source": [
        "def get_movie_recommendations(user_id, n=5):\n",
        "    similar_users = user_sim_df[user_id].sort_values(ascending=False)[1:]  # skip self\n",
        "    weighted_ratings = pd.Series(dtype=float)\n",
        "\n",
        "    for sim_user, similarity in similar_users.items():\n",
        "        sim_user_ratings = user_movie_matrix.loc[sim_user]\n",
        "        weighted = sim_user_ratings * similarity\n",
        "        weighted_ratings = weighted_ratings.add(weighted, fill_value=0)\n",
        "\n",
        "    user_rated = user_movie_matrix.loc[user_id][user_movie_matrix.loc[user_id].notnull()].index\n",
        "    weighted_ratings = weighted_ratings.drop(user_rated, errors='ignore')\n",
        "\n",
        "    top_movies = weighted_ratings.sort_values(ascending=False).head(n)\n",
        "    return top_movies\n",
        "\n",
        "# Example: Recommend for user 1\n",
        "top_recommendations = get_movie_recommendations(user_id=1, n=5)\n",
        "\n",
        "print(\"\\n🎯 Top 5 Recommendations for User 1:\")\n",
        "for movie_id, score in top_recommendations.items():\n",
        "    movie_title = movies_df.loc[movies_df['movieId'] == movie_id, 'title'].values\n",
        "    title = movie_title[0] if len(movie_title) > 0 else \"Unknown\"\n",
        "    print(f\"🎬 {title}, Score: {score:.2f}\")\n"
      ]
    },
    {
      "cell_type": "code",
      "execution_count": null,
      "metadata": {
        "id": "mepvH4kp0dC8"
      },
      "outputs": [],
      "source": [
        "# Optional: filter top_movies by genre\n",
        "preferred_genre = 'Action'  # Or get this dynamically\n",
        "\n",
        "# Call get_movie_recommendations to define top_movies\n",
        "top_movies = get_movie_recommendations(user_id=1, n=5)\n",
        "\n",
        "filtered = movies_df[movies_df['movieId'].isin(top_movies.index)]\n",
        "filtered = filtered[filtered['genres'].str.contains(preferred_genre, case=False)]"
      ]
    },
    {
      "cell_type": "code",
      "execution_count": null,
      "metadata": {
        "id": "UxN_W5mj0w-t"
      },
      "outputs": [],
      "source": [
        "# Add release year column to movies_df\n",
        "movies_df['year'] = movies_df['title'].str.extract(r'\\((\\d{4})\\)').astype(float)\n",
        "\n",
        "# Optional: filter top_movies by genre\n",
        "preferred_genre = 'Action'  # Or get this dynamically\n",
        "\n",
        "# Call get_movie_recommendations to define top_movies\n",
        "top_movies = get_movie_recommendations(user_id=1, n=5)\n",
        "\n",
        "# Filter by movieId and genre from the original movies_df (which now has 'year')\n",
        "filtered = movies_df[movies_df['movieId'].isin(top_movies.index)]\n",
        "filtered = filtered[filtered['genres'].str.contains(preferred_genre, case=False)]\n",
        "\n",
        "# Now filter by year using the 'year' column in filtered\n",
        "filtered = filtered[filtered['year'] >= 2010]"
      ]
    },
    {
      "cell_type": "code",
      "execution_count": null,
      "metadata": {
        "colab": {
          "base_uri": "https://localhost:8080/"
        },
        "id": "C50D1sWZ1K4i",
        "outputId": "3839e4f4-3955-4638-c005-fe82b2965141"
      },
      "outputs": [
        {
          "name": "stdout",
          "output_type": "stream",
          "text": [
            "\n",
            "🎯 Top 5 Recommendations for User 1:\n",
            "🎬 Shawshank Redemption, The (1994), Score: 215.45\n",
            "🎬 Terminator 2: Judgment Day (1991), Score: 169.40\n",
            "🎬 Godfather, The (1972), Score: 150.92\n",
            "🎬 Sixth Sense, The (1999), Score: 135.01\n",
            "🎬 Lord of the Rings: The Fellowship of the Ring, The (2001), Score: 131.87\n"
          ]
        }
      ],
      "source": [
        "def get_movie_recommendations(user_id, n=5):\n",
        "    similar_users = user_sim_df[user_id].sort_values(ascending=False)[1:]  # skip self\n",
        "    weighted_ratings = pd.Series(dtype=float)\n",
        "\n",
        "    for sim_user, similarity in similar_users.items():\n",
        "        sim_user_ratings = user_movie_matrix.loc[sim_user]\n",
        "        weighted = sim_user_ratings * similarity\n",
        "        weighted_ratings = weighted_ratings.add(weighted, fill_value=0)\n",
        "\n",
        "    user_rated = user_movie_matrix.loc[user_id][user_movie_matrix.loc[user_id].notnull()].index\n",
        "    weighted_ratings = weighted_ratings.drop(user_rated, errors='ignore')\n",
        "\n",
        "    top_movies = weighted_ratings.sort_values(ascending=False).head(n)\n",
        "\n",
        "    # Return both top_movies and weighted_ratings\n",
        "    return top_movies, weighted_ratings\n",
        "\n",
        "# Example: Recommend for user 1\n",
        "top_recommendations, weighted_ratings = get_movie_recommendations(user_id=1, n=5) # Assign the output to top_recommendations\n",
        "\n",
        "print(\"\\n🎯 Top 5 Recommendations for User 1:\")\n",
        "for movie_id, score in top_recommendations.items():\n",
        "    movie_title = movies_df.loc[movies_df['movieId'] == movie_id, 'title'].values\n",
        "    title = movie_title[0] if len(movie_title) > 0 else \"Unknown\"\n",
        "    print(f\"🎬 {title}, Score: {score:.2f}\")"
      ]
    },
    {
      "cell_type": "code",
      "execution_count": null,
      "metadata": {
        "id": "BhcbpPbB1XYS"
      },
      "outputs": [],
      "source": [
        "# Compute cosine similarity between movie genres (dummy encoded)\n",
        "genre_matrix = movies_df['genres'].str.get_dummies(sep='|')\n",
        "movie_similarity = cosine_similarity(genre_matrix)\n",
        "\n",
        "# Average user-based and content-based scores (optional advanced step)\n"
      ]
    },
    {
      "cell_type": "code",
      "execution_count": null,
      "metadata": {
        "colab": {
          "base_uri": "https://localhost:8080/"
        },
        "id": "5TB6f0WU1aK7",
        "outputId": "7e522ce3-0fce-4f79-cccb-fe4a84831980"
      },
      "outputs": [
        {
          "name": "stdout",
          "output_type": "stream",
          "text": [
            "Enter preferred genre (e.g., Comedy): action\n",
            "Enter minimum release year: 1995\n"
          ]
        }
      ],
      "source": [
        "preferred_genre = input(\"Enter preferred genre (e.g., Comedy): \")\n",
        "min_year = int(input(\"Enter minimum release year: \"))\n"
      ]
    },
    {
      "cell_type": "code",
      "execution_count": null,
      "metadata": {
        "colab": {
          "base_uri": "https://localhost:8080/"
        },
        "id": "6FaMooiC2cyK",
        "outputId": "c5527115-321a-473e-a665-b93a895815b2"
      },
      "outputs": [
        {
          "name": "stdout",
          "output_type": "stream",
          "text": [
            "\n",
            "🎯 Top 5 Recommendations for User 1 — Genre: Action, After 1995:\n",
            "\n",
            "                                                        title                          genres   year    score\n",
            "        Lord of the Rings: The Return of the King, The (2003)  Action|Adventure|Drama|Fantasy 2003.0 1.502235\n",
            "                                    Fifth Element, The (1997)  Action|Adventure|Comedy|Sci-Fi 1997.0 1.154920\n",
            "Pirates of the Caribbean: The Curse of the Black Pearl (2003) Action|Adventure|Comedy|Fantasy 2003.0 1.143482\n",
            "                                      Dark Knight, The (2008)         Action|Crime|Drama|IMAX 2008.0 1.143421\n",
            "                                     Kill Bill: Vol. 1 (2003)           Action|Crime|Thriller 2003.0 1.104008\n"
          ]
        },
        {
          "name": "stderr",
          "output_type": "stream",
          "text": [
            "<ipython-input-35-72129f49a44e>:30: SettingWithCopyWarning: \n",
            "A value is trying to be set on a copy of a slice from a DataFrame.\n",
            "Try using .loc[row_indexer,col_indexer] = value instead\n",
            "\n",
            "See the caveats in the documentation: https://pandas.pydata.org/pandas-docs/stable/user_guide/indexing.html#returning-a-view-versus-a-copy\n",
            "  filtered['score'] = filtered['movieId'].map(weighted_ratings)\n"
          ]
        }
      ],
      "source": [
        "def get_movie_recommendations_filtered(user_id, genre_filter=\"Action\", min_year=1995, n=5):\n",
        "    # Get similar users\n",
        "    similar_users = user_sim_df[user_id].sort_values(ascending=False)[1:]  # skip self\n",
        "    weighted_ratings = pd.Series(dtype=float)\n",
        "\n",
        "    for sim_user, similarity in similar_users.items():\n",
        "        sim_user_ratings = user_movie_matrix.loc[sim_user]\n",
        "        weighted = sim_user_ratings * similarity\n",
        "        weighted_ratings = weighted_ratings.add(weighted, fill_value=0)\n",
        "\n",
        "    # Drop movies already rated by this user\n",
        "    user_rated = user_movie_matrix.loc[user_id][user_movie_matrix.loc[user_id].notnull()].index\n",
        "    weighted_ratings = weighted_ratings.drop(user_rated, errors='ignore')\n",
        "\n",
        "    # Normalize score (optional)\n",
        "    weighted_ratings /= similar_users.sum()\n",
        "\n",
        "    # Merge with movie metadata\n",
        "    movie_info = movies_df.copy()\n",
        "    movie_info['year'] = movie_info['title'].str.extract(r'\\((\\d{4})\\)').astype(float)\n",
        "\n",
        "    # Apply genre and year filters\n",
        "    filtered = movie_info[\n",
        "        (movie_info['movieId'].isin(weighted_ratings.index)) &\n",
        "        (movie_info['genres'].str.contains(genre_filter, case=False, na=False)) &\n",
        "        (movie_info['year'] >= min_year)\n",
        "    ]\n",
        "\n",
        "    # Add predicted scores\n",
        "    filtered['score'] = filtered['movieId'].map(weighted_ratings)\n",
        "\n",
        "    # Get top N\n",
        "    top_recs = filtered.sort_values(by='score', ascending=False).head(n)\n",
        "    return top_recs[['title', 'genres', 'year', 'score']]\n",
        "\n",
        "# 🔍 Example usage:\n",
        "genre_input = \"Action\"\n",
        "min_year_input = 1995\n",
        "\n",
        "recommendations = get_movie_recommendations_filtered(user_id=1, genre_filter=genre_input, min_year=min_year_input)\n",
        "print(f\"\\n🎯 Top 5 Recommendations for User 1 — Genre: {genre_input}, After {min_year_input}:\\n\")\n",
        "print(recommendations.to_string(index=False))\n"
      ]
    },
    {
      "cell_type": "code",
      "execution_count": null,
      "metadata": {
        "id": "1xzArFVG3aTc"
      },
      "outputs": [],
      "source": [
        "def get_custom_recommendations(user_id, genre_filters=None, start_year=None, end_year=None, keyword=None, top_n=5):\n",
        "    similar_users = user_sim_df[user_id].sort_values(ascending=False)[1:]\n",
        "    weighted_ratings = pd.Series(dtype=float)\n",
        "\n",
        "    for sim_user, similarity in similar_users.items():\n",
        "        sim_user_ratings = user_movie_matrix.loc[sim_user]\n",
        "        weighted = sim_user_ratings * similarity\n",
        "        weighted_ratings = weighted_ratings.add(weighted, fill_value=0)\n",
        "\n",
        "    # Remove already watched\n",
        "    user_rated = user_movie_matrix.loc[user_id][user_movie_matrix.loc[user_id].notnull()].index\n",
        "    weighted_ratings = weighted_ratings.drop(user_rated, errors='ignore')\n",
        "    weighted_ratings /= similar_users.sum()  # normalize\n",
        "\n",
        "    movie_info = movies_df.copy()\n",
        "    movie_info['year'] = movie_info['title'].str.extract(r'\\((\\d{4})\\)').astype(float)\n",
        "\n",
        "    # Filter by genres\n",
        "    if genre_filters:\n",
        "        genre_filters = [g.strip().lower() for g in genre_filters]\n",
        "        genre_mask = movie_info['genres'].apply(lambda g: any(gen in g.lower() for gen in genre_filters))\n",
        "        movie_info = movie_info[genre_mask]\n",
        "\n",
        "    # Filter by year range\n",
        "    if start_year:\n",
        "        movie_info = movie_info[movie_info['year'] >= start_year]\n",
        "    if end_year:\n",
        "        movie_info = movie_info[movie_info['year'] <= end_year]\n",
        "\n",
        "    # Filter by keyword in title\n",
        "    if keyword:\n",
        "        movie_info = movie_info[movie_info['title'].str.contains(keyword, case=False, na=False)]\n",
        "\n",
        "    # Merge scores\n",
        "    movie_info['score'] = movie_info['movieId'].map(weighted_ratings)\n",
        "    movie_info = movie_info.dropna(subset=['score'])\n",
        "\n",
        "    # Final top recommendations\n",
        "    top_recs = movie_info.sort_values('score', ascending=False).head(top_n)\n",
        "    return top_recs[['title', 'genres', 'year', 'score']]\n"
      ]
    },
    {
      "cell_type": "code",
      "execution_count": null,
      "metadata": {},
      "outputs": [
        {
          "name": "stdout",
          "output_type": "stream",
          "text": [
            "\n",
            "🎯 Top 5 Recommendations for User 1 — Genre: Action, After 1995:\n",
            "\n",
            "                                                        title                          genres   year    score\n",
            "        Lord of the Rings: The Return of the King, The (2003)  Action|Adventure|Drama|Fantasy 2003.0 1.502235\n",
            "                                    Fifth Element, The (1997)  Action|Adventure|Comedy|Sci-Fi 1997.0 1.154920\n",
            "Pirates of the Caribbean: The Curse of the Black Pearl (2003) Action|Adventure|Comedy|Fantasy 2003.0 1.143482\n",
            "                                      Dark Knight, The (2008)         Action|Crime|Drama|IMAX 2008.0 1.143421\n",
            "                                     Kill Bill: Vol. 1 (2003)           Action|Crime|Thriller 2003.0 1.104008\n"
          ]
        },
        {
          "name": "stderr",
          "output_type": "stream",
          "text": [
            "<ipython-input-35-72129f49a44e>:30: SettingWithCopyWarning: \n",
            "A value is trying to be set on a copy of a slice from a DataFrame.\n",
            "Try using .loc[row_indexer,col_indexer] = value instead\n",
            "\n",
            "See the caveats in the documentation: https://pandas.pydata.org/pandas-docs/stable/user_guide/indexing.html#returning-a-view-versus-a-copy\n",
            "  filtered['score'] = filtered['movieId'].map(weighted_ratings)\n"
          ]
        }
      ],
      "source": [
        "def get_movie_recommendations_filtered(user_id, genre_filter=\"Action\", min_year=1995, n=5):\n",
        "    # Get similar users\n",
        "    similar_users = user_sim_df[user_id].sort_values(ascending=False)[1:]  # skip self\n",
        "    weighted_ratings = pd.Series(dtype=float)\n",
        "\n",
        "    for sim_user, similarity in similar_users.items():\n",
        "        sim_user_ratings = user_movie_matrix.loc[sim_user]\n",
        "        weighted = sim_user_ratings * similarity\n",
        "        weighted_ratings = weighted_ratings.add(weighted, fill_value=0)\n",
        "\n",
        "    # Drop movies already rated by this user\n",
        "    user_rated = user_movie_matrix.loc[user_id][user_movie_matrix.loc[user_id].notnull()].index\n",
        "    weighted_ratings = weighted_ratings.drop(user_rated, errors='ignore')\n",
        "\n",
        "    # Normalize score (optional)\n",
        "    weighted_ratings /= similar_users.sum()\n",
        "\n",
        "    # Merge with movie metadata\n",
        "    movie_info = movies_df.copy()\n",
        "    movie_info['year'] = movie_info['title'].str.extract(r'\\((\\d{4})\\)').astype(float)\n",
        "\n",
        "    # Apply genre and year filters\n",
        "    filtered = movie_info[\n",
        "        (movie_info['movieId'].isin(weighted_ratings.index)) &\n",
        "        (movie_info['genres'].str.contains(genre_filter, case=False, na=False)) &\n",
        "        (movie_info['year'] >= min_year)\n",
        "    ]\n",
        "\n",
        "    # Add predicted scores\n",
        "    filtered['score'] = filtered['movieId'].map(weighted_ratings)\n",
        "\n",
        "    # Get top N\n",
        "    top_recs = filtered.sort_values(by='score', ascending=False).head(n)\n",
        "    return top_recs[['title', 'genres', 'year', 'score']]\n",
        "\n",
        "# 🔍 Example usage:\n",
        "genre_input = \"Action\"\n",
        "min_year_input = 1995\n",
        "\n",
        "recommendations = get_movie_recommendations_filtered(user_id=1, genre_filter=genre_input, min_year=min_year_input)\n",
        "print(f\"\\n🎯 Top 5 Recommendations for User 1 — Genre: {genre_input}, After {min_year_input}:\\n\")\n",
        "print(recommendations.to_string(index=False))\n"
      ]
    },
    {
      "cell_type": "code",
      "execution_count": null,
      "metadata": {
        "colab": {
          "base_uri": "https://localhost:8080/"
        },
        "id": "wX08oKVh3cYx",
        "outputId": "ce2216f9-bf73-4649-b8b6-a96220b35997"
      },
      "outputs": [
        {
          "name": "stdout",
          "output_type": "stream",
          "text": [
            "Enter preferred genres (comma-separated, e.g., Action,Comedy): action,thriller\n",
            "Enter start year (e.g. 1995): 2000\n",
            "Enter end year (e.g. 2020): 2020\n",
            "Enter keyword in title (optional): war\n",
            "\n",
            "🎯 Custom Top 5 Recommendations:\n",
            "\n",
            "                                              title                               genres   year    score\n",
            "Star Wars: Episode II - Attack of the Clones (2002)         Action|Adventure|Sci-Fi|IMAX 2002.0 0.714401\n",
            "Star Wars: Episode III - Revenge of the Sith (2005)              Action|Adventure|Sci-Fi 2005.0 0.646277\n",
            "                           War of the Worlds (2005)     Action|Adventure|Sci-Fi|Thriller 2005.0 0.387223\n",
            "  Star Wars: Episode VII - The Force Awakens (2015) Action|Adventure|Fantasy|Sci-Fi|IMAX 2015.0 0.304676\n",
            "                                 Lord of War (2005)      Action|Crime|Drama|Thriller|War 2005.0 0.273162\n"
          ]
        }
      ],
      "source": [
        "# 🎛️ User input section\n",
        "user_id = 1\n",
        "genre_input = input(\"Enter preferred genres (comma-separated, e.g., Action,Comedy): \")\n",
        "start_year = int(input(\"Enter start year (e.g. 1995): \"))\n",
        "end_year = int(input(\"Enter end year (e.g. 2020): \"))\n",
        "keyword = input(\"Enter keyword in title (optional): \")\n",
        "\n",
        "# Run the recommender\n",
        "genre_list = genre_input.split(',') if genre_input else []\n",
        "recommendations = get_custom_recommendations(\n",
        "    user_id=user_id,\n",
        "    genre_filters=genre_list,\n",
        "    start_year=start_year,\n",
        "    end_year=end_year,\n",
        "    keyword=keyword,\n",
        "    top_n=5\n",
        ")\n",
        "\n",
        "print(\"\\n🎯 Custom Top 5 Recommendations:\\n\")\n",
        "print(recommendations.to_string(index=False))\n"
      ]
    },
    {
      "cell_type": "code",
      "execution_count": null,
      "metadata": {
        "colab": {
          "base_uri": "https://localhost:8080/"
        },
        "id": "rQ0kRHUV4hDX",
        "outputId": "900dcae7-e873-4695-efff-aaff3c5622fe"
      },
      "outputs": [
        {
          "name": "stdout",
          "output_type": "stream",
          "text": [
            "Enter preferred genres (comma-separated, e.g., Action,Comedy): action,thriller\n",
            "Enter start year (e.g. 1995): 2000\n",
            "Enter end year (e.g. 2020): 2020\n",
            "Do you want to filter by a keyword in the title? (yes/no): yes\n",
            "Enter keyword in title (e.g., war, love): war\n"
          ]
        }
      ],
      "source": [
        "# 🎛️ User input section with Yes/No for keyword\n",
        "user_id = 1\n",
        "genre_input = input(\"Enter preferred genres (comma-separated, e.g., Action,Comedy): \")\n",
        "start_year = int(input(\"Enter start year (e.g. 1995): \"))\n",
        "end_year = int(input(\"Enter end year (e.g. 2020): \"))\n",
        "\n",
        "use_keyword = input(\"Do you want to filter by a keyword in the title? (yes/no): \").strip().lower()\n",
        "keyword = None\n",
        "if use_keyword == 'yes':\n",
        "    keyword = input(\"Enter keyword in title (e.g., war, love): \")\n"
      ]
    },
    {
      "cell_type": "code",
      "execution_count": null,
      "metadata": {
        "colab": {
          "base_uri": "https://localhost:8080/"
        },
        "id": "C510amL76LYN",
        "outputId": "6b705c02-8610-4a25-9dfc-12fe960e0bf3"
      },
      "outputs": [
        {
          "name": "stdout",
          "output_type": "stream",
          "text": [
            "Enter preferred genres (comma-separated, e.g., Action,Comedy): action ,comedy\n",
            "Enter start year (e.g. 1995): 1995\n",
            "Enter end year (e.g. 2020): 1998\n",
            "Do you want to filter by a keyword in the title? (yes/no): yes\n",
            "Enter keyword in title (e.g., war, love): love\n",
            "\n",
            "🎯 Custom Top 5 Recommendations:\n",
            "\n",
            "                                                     title                 genres   year    score\n",
            "                                Shakespeare in Love (1998)   Comedy|Drama|Romance 1998.0 0.850979\n",
            "                           Everyone Says I Love You (1996) Comedy|Musical|Romance 1996.0 0.141065\n",
            "                                   Addicted to Love (1997)         Comedy|Romance 1997.0 0.072563\n",
            "Incredibly True Adventure of Two Girls in Love, The (1995)         Comedy|Romance 1995.0 0.022477\n",
            "                         Pyromaniac's Love Story, A (1995)         Comedy|Romance 1995.0 0.012028\n"
          ]
        },
        {
          "data": {
            "text/plain": [
              "220"
            ]
          },
          "execution_count": 47,
          "metadata": {},
          "output_type": "execute_result"
        }
      ],
      "source": [
        "# 🎛️ User input section with Yes/No for keyword\n",
        "user_id = 1\n",
        "genre_input = input(\"Enter preferred genres (comma-separated, e.g., Action,Comedy): \")\n",
        "start_year = int(input(\"Enter start year (e.g. 1995): \"))\n",
        "end_year = int(input(\"Enter end year (e.g. 2020): \"))\n",
        "\n",
        "use_keyword = input(\"Do you want to filter by a keyword in the title? (yes/no): \").strip().lower()\n",
        "keyword = None\n",
        "if use_keyword == 'yes':\n",
        "    keyword = input(\"Enter keyword in title (e.g., war, love): \")\n",
        "\n",
        "# Prepare the genre list\n",
        "genre_list = genre_input.split(',') if genre_input else []\n",
        "\n",
        "# Run the recommender with or without keyword filter\n",
        "recommendations = get_custom_recommendations(\n",
        "    user_id=user_id,\n",
        "    genre_filters=genre_list,\n",
        "    start_year=start_year,\n",
        "    end_year=end_year,\n",
        "    keyword=keyword,  # Will be None if \"No\" selected\n",
        "    top_n=5\n",
        ")\n",
        "\n",
        "# Display recommendations\n",
        "print(\"\\n🎯 Custom Top 5 Recommendations:\\n\")\n",
        "print(recommendations.to_string(index=False))\n",
        "220"
      ]
    },
    {
      "cell_type": "code",
      "execution_count": null,
      "metadata": {
        "colab": {
          "base_uri": "https://localhost:8080/"
        },
        "id": "9Bc6YcwC84IK",
        "outputId": "aec53976-cfe6-48f4-e2ad-4726fd8747b6"
      },
      "outputs": [
        {
          "name": "stdout",
          "output_type": "stream",
          "text": [
            "Enter preferred genres (comma-separated, e.g., Action,Comedy): cinema\n",
            "Enter start year (e.g. 1995): 1990\n",
            "Enter end year (e.g. 2020): 1980\n",
            "\n",
            "⚠️ The following genres are not found in the dataset: cinema\n",
            "Do you want to filter by a keyword in the title? (yes/no): no\n",
            "\n",
            "⚠️ Please fix the invalid input and try again.\n"
          ]
        }
      ],
      "source": [
        "# 🎛️ User input section with validation for genres and years\n",
        "user_id = 1\n",
        "\n",
        "# Load movies data (example of movie dataset being loaded)\n",
        "# Make sure this is the movies dataset loaded already earlier in the process\n",
        "movies_data = pd.read_csv('movies.csv')\n",
        "\n",
        "# Extract year from title and add as a new column\n",
        "movies_data['year'] = movies_data['title'].str.extract(r'\\((\\d{4})\\)').astype(float)\n",
        "\n",
        "# Get available genres from the dataset (combining all genres)\n",
        "available_genres = set()\n",
        "for genre_list in movies_data['genres'].str.split('|'):\n",
        "    available_genres.update(genre_list)\n",
        "\n",
        "# Get available years from the dataset\n",
        "available_years = set(movies_data['year'])\n",
        "\n",
        "# User inputs for genres and years\n",
        "genre_input = input(\"Enter preferred genres (comma-separated, e.g., Action,Comedy): \").lower()\n",
        "start_year = int(input(\"Enter start year (e.g. 1995): \"))\n",
        "end_year = int(input(\"Enter end year (e.g. 2020): \"))\n",
        "\n",
        "# Validate genres\n",
        "genre_list = genre_input.split(',')\n",
        "invalid_genres = [genre for genre in genre_list if genre not in available_genres]\n",
        "\n",
        "if invalid_genres:\n",
        "    print(f\"\\n⚠️ The following genres are not found in the dataset: {', '.join(invalid_genres)}\")\n",
        "\n",
        "# Validate years\n",
        "if start_year not in available_years or end_year not in available_years:\n",
        "    print(f\"\\n⚠️ One or both of the years are not valid in the dataset. Valid years are between {min(available_years)} and {max(available_years)}.\")\n",
        "\n",
        "# Proceed if valid genres and years\n",
        "use_keyword = input(\"Do you want to filter by a keyword in the title? (yes/no): \").strip().lower()\n",
        "keyword = None\n",
        "if use_keyword == 'yes':\n",
        "    keyword = input(\"Enter keyword in title (e.g., war, love): \")\n",
        "\n",
        "# Run the recommender if valid input\n",
        "if not invalid_genres and start_year in available_years and end_year in available_years:\n",
        "    recommendations = get_custom_recommendations(\n",
        "        user_id=user_id,\n",
        "        genre_filters=genre_list,\n",
        "        start_year=start_year,\n",
        "        end_year=end_year,\n",
        "        keyword=keyword,  # Will be None if \"No\" selected\n",
        "        top_n=5\n",
        "    )\n",
        "\n",
        "    # Display recommendations\n",
        "    print(\"\\n🎯 Custom Top 5 Recommendations:\\n\")\n",
        "    print(recommendations.to_string(index=False))\n",
        "else:\n",
        "    print(\"\\n⚠️ Please fix the invalid input and try again.\")"
      ]
    }
  ],
  "metadata": {
    "colab": {
      "provenance": []
    },
    "kernelspec": {
      "display_name": "Python 3",
      "name": "python3"
    },
    "language_info": {
      "name": "python"
    }
  },
  "nbformat": 4,
  "nbformat_minor": 0
}
